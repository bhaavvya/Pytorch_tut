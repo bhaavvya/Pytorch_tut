{
 "cells": [
  {
   "cell_type": "markdown",
   "id": "6a9e4e1e",
   "metadata": {},
   "source": [
    "# Pytorch Tutorial"
   ]
  },
  {
   "cell_type": "markdown",
   "id": "6e2a757e",
   "metadata": {},
   "source": [
    "Tensors Basics\n",
    " -> generalization of vectors and matrices.\n",
    " -> understood as multidimentional array.\n",
    " -> set of techniques known in ml in the training.\n",
    " -> operation of deep learning models can be described as tensors.\n",
    " -> replacement of Numpy to use the power of GPUs."
   ]
  },
  {
   "cell_type": "markdown",
   "id": "30d8460e",
   "metadata": {},
   "source": [
    "A PyTorch Tensor is basically the same as a numpy array: \n",
    "- it does not know anything about deep learning or computational graphs or gradients\n",
    "- and is just a generic n-dimensional array to be used for arbitrary numeric computation."
   ]
  },
  {
   "cell_type": "markdown",
   "id": "4ac25ca2",
   "metadata": {},
   "source": [
    "Link to the documentation of pytorch tensor"
   ]
  },
  {
   "cell_type": "code",
   "execution_count": null,
   "id": "bd94292c",
   "metadata": {},
   "outputs": [],
   "source": [
    "https://pytorch.org/tutorials/beginner/examples_tensor/polynomial_tensor.html#:~:text=PyTorch%3A%20Tensors,-A%20third%20order&text=A%20PyTorch%20Tensor%20is%20basically,used%20for%20arbitrary%20numeric%20computation."
   ]
  },
  {
   "cell_type": "code",
   "execution_count": 2,
   "id": "4e5fddf2",
   "metadata": {},
   "outputs": [],
   "source": [
    "import torch"
   ]
  },
  {
   "cell_type": "code",
   "execution_count": 3,
   "id": "975ae9a0",
   "metadata": {},
   "outputs": [
    {
     "data": {
      "text/plain": [
       "'2.0.1'"
      ]
     },
     "execution_count": 3,
     "metadata": {},
     "output_type": "execute_result"
    }
   ],
   "source": [
    "torch.__version__"
   ]
  },
  {
   "cell_type": "code",
   "execution_count": 4,
   "id": "89570e11",
   "metadata": {},
   "outputs": [],
   "source": [
    "import numpy as np"
   ]
  },
  {
   "cell_type": "code",
   "execution_count": 5,
   "id": "a12df843",
   "metadata": {},
   "outputs": [],
   "source": [
    "lst=[10,20,30]\n",
    "arr=np.array(lst)"
   ]
  },
  {
   "cell_type": "code",
   "execution_count": 6,
   "id": "782c3d48",
   "metadata": {},
   "outputs": [
    {
     "data": {
      "text/plain": [
       "dtype('int32')"
      ]
     },
     "execution_count": 6,
     "metadata": {},
     "output_type": "execute_result"
    }
   ],
   "source": [
    "arr.dtype"
   ]
  },
  {
   "cell_type": "markdown",
   "id": "8f57714c",
   "metadata": {},
   "source": [
    "# Converting Numpy array ----->  Pytorch Tensors"
   ]
  },
  {
   "cell_type": "code",
   "execution_count": 7,
   "id": "a27007e5",
   "metadata": {},
   "outputs": [],
   "source": [
    "tensors=torch.from_numpy(arr)"
   ]
  },
  {
   "cell_type": "markdown",
   "id": "f674aaad",
   "metadata": {},
   "source": [
    "The modified tensor and the numpy array share the same memory"
   ]
  },
  {
   "cell_type": "code",
   "execution_count": 8,
   "id": "38207655",
   "metadata": {},
   "outputs": [
    {
     "data": {
      "text/plain": [
       "tensor([10, 20, 30], dtype=torch.int32)"
      ]
     },
     "execution_count": 8,
     "metadata": {},
     "output_type": "execute_result"
    }
   ],
   "source": [
    "tensors"
   ]
  },
  {
   "cell_type": "markdown",
   "id": "9cf65901",
   "metadata": {},
   "source": [
    "Similar to numpy we can use indexing to get the element"
   ]
  },
  {
   "cell_type": "code",
   "execution_count": 9,
   "id": "b1851a38",
   "metadata": {},
   "outputs": [
    {
     "data": {
      "text/plain": [
       "tensor([10, 20], dtype=torch.int32)"
      ]
     },
     "execution_count": 9,
     "metadata": {},
     "output_type": "execute_result"
    }
   ],
   "source": [
    "tensors[:2]"
   ]
  },
  {
   "cell_type": "code",
   "execution_count": 10,
   "id": "5eb3df7d",
   "metadata": {},
   "outputs": [],
   "source": [
    "import math"
   ]
  },
  {
   "cell_type": "code",
   "execution_count": 11,
   "id": "2e42f813",
   "metadata": {},
   "outputs": [],
   "source": [
    "dtype = torch.float #dtype mai sabhi values float honge\n",
    "device = torch.device(\"cpu\")\n",
    "# device = torch.device(\"cuda:0\") # Uncomment this to run on GPU\n",
    "\n",
    "# Create random input and output data\n",
    "x = torch.linspace(-math.pi, math.pi, 2000, device=device, dtype=dtype)\n",
    "y = torch.sin(x)"
   ]
  },
  {
   "cell_type": "markdown",
   "id": "7e0c8a90",
   "metadata": {},
   "source": [
    "The device is explicitly set to \"cpu,\" which means that all tensor operations will be executed on the CPU. This is the default device if you don't specify a different device, and it's commonly used when you either don't have a compatible GPU or you want to run computations on the CPU for various reasons, such as debugging or working with smaller datasets where GPU acceleration may not provide significant benefits."
   ]
  },
  {
   "cell_type": "markdown",
   "id": "958be526",
   "metadata": {},
   "source": [
    "linspace: It's a PyTorch function that generates evenly spaced values over a specified range."
   ]
  },
  {
   "cell_type": "code",
   "execution_count": 12,
   "id": "22d6ba15",
   "metadata": {},
   "outputs": [
    {
     "data": {
      "text/plain": [
       "2000"
      ]
     },
     "execution_count": 12,
     "metadata": {},
     "output_type": "execute_result"
    }
   ],
   "source": [
    "number=np.array(x)\n",
    "len(number)"
   ]
  },
  {
   "cell_type": "code",
   "execution_count": 13,
   "id": "0fa5f7f4",
   "metadata": {},
   "outputs": [
    {
     "name": "stdout",
     "output_type": "stream",
     "text": [
      "\n",
      "input is  tensor([-3.1416, -3.1384, -3.1353,  ...,  3.1353,  3.1384,  3.1416])\n",
      "\n",
      "output after applying sine operation is  tensor([ 8.7423e-08, -3.1430e-03, -6.2863e-03,  ...,  6.2863e-03,\n",
      "         3.1430e-03, -8.7423e-08])\n"
     ]
    }
   ],
   "source": [
    "print(\"\\ninput is \",x)\n",
    "print(\"\\noutput after applying sine operation is \",y)"
   ]
  },
  {
   "cell_type": "markdown",
   "id": "dddafc88",
   "metadata": {},
   "source": [
    "To prevent from shared memory make one more copy"
   ]
  },
  {
   "cell_type": "code",
   "execution_count": 14,
   "id": "3552ffd5",
   "metadata": {},
   "outputs": [],
   "source": [
    "tensor_arr=torch.tensor(arr)\n",
    "tensor_arr\n",
    "\n",
    "tensor_arr[1]=200"
   ]
  },
  {
   "cell_type": "code",
   "execution_count": 15,
   "id": "ae487f32",
   "metadata": {},
   "outputs": [
    {
     "name": "stdout",
     "output_type": "stream",
     "text": [
      "tensor([ 10, 200,  30], dtype=torch.int32)\n"
     ]
    },
    {
     "data": {
      "text/plain": [
       "array([10, 20, 30])"
      ]
     },
     "execution_count": 15,
     "metadata": {},
     "output_type": "execute_result"
    }
   ],
   "source": [
    "print(tensor_arr)\n",
    "arr"
   ]
  },
  {
   "cell_type": "markdown",
   "id": "b61bbb93",
   "metadata": {},
   "source": [
    "Some in-built features of pytorch"
   ]
  },
  {
   "cell_type": "code",
   "execution_count": 16,
   "id": "c71146ff",
   "metadata": {},
   "outputs": [
    {
     "data": {
      "text/plain": [
       "tensor([[0., 0., 0.],\n",
       "        [0., 0., 0.]])"
      ]
     },
     "execution_count": 16,
     "metadata": {},
     "output_type": "execute_result"
    }
   ],
   "source": [
    "torch.zeros(2,3,dtype=torch.float)\n"
   ]
  },
  {
   "cell_type": "code",
   "execution_count": 17,
   "id": "0505fd37",
   "metadata": {},
   "outputs": [
    {
     "data": {
      "text/plain": [
       "tensor([[1., 1., 1.],\n",
       "        [1., 1., 1.]])"
      ]
     },
     "execution_count": 17,
     "metadata": {},
     "output_type": "execute_result"
    }
   ],
   "source": [
    "torch.ones(2,3,dtype=torch.float)"
   ]
  },
  {
   "cell_type": "markdown",
   "id": "aa266a47",
   "metadata": {},
   "source": [
    "# Arithmetic Operations"
   ]
  },
  {
   "cell_type": "code",
   "execution_count": 18,
   "id": "dbe66d25",
   "metadata": {},
   "outputs": [
    {
     "name": "stdout",
     "output_type": "stream",
     "text": [
      "tensor([20., 30., 40.])\n"
     ]
    }
   ],
   "source": [
    "a=torch.tensor([10,20,30],dtype=torch.float)\n",
    "b=torch.tensor([10,10,10],dtype=torch.float)\n",
    "print(a+ b)"
   ]
  },
  {
   "cell_type": "code",
   "execution_count": 19,
   "id": "2adf2b36",
   "metadata": {},
   "outputs": [
    {
     "data": {
      "text/plain": [
       "torch.Size([3])"
      ]
     },
     "execution_count": 19,
     "metadata": {},
     "output_type": "execute_result"
    }
   ],
   "source": [
    "c=torch.add(a,b)\n",
    "c.shape"
   ]
  },
  {
   "cell_type": "code",
   "execution_count": 20,
   "id": "922c446f",
   "metadata": {},
   "outputs": [
    {
     "data": {
      "text/plain": [
       "tensor(90.)"
      ]
     },
     "execution_count": 20,
     "metadata": {},
     "output_type": "execute_result"
    }
   ],
   "source": [
    "c.sum()"
   ]
  },
  {
   "cell_type": "markdown",
   "id": "53976a0a",
   "metadata": {},
   "source": [
    "# Dot product and multiply opeartion"
   ]
  },
  {
   "cell_type": "markdown",
   "id": "4f10c103",
   "metadata": {},
   "source": [
    "dot product is when u wanna multiply 2 matrix and multiply is normal multiplication"
   ]
  },
  {
   "cell_type": "code",
   "execution_count": 21,
   "id": "a65af891",
   "metadata": {},
   "outputs": [
    {
     "name": "stdout",
     "output_type": "stream",
     "text": [
      "tensor([2., 4., 6.])\n",
      "tensor(12.)\n"
     ]
    }
   ],
   "source": [
    "p=torch.tensor([1,2,3],dtype=torch.float)\n",
    "q=torch.tensor([2,2,2],dtype=torch.float)\n",
    "print(torch.mul(p,q))\n",
    "print(torch.dot(p,q))"
   ]
  },
  {
   "cell_type": "code",
   "execution_count": 22,
   "id": "5988ba58",
   "metadata": {},
   "outputs": [
    {
     "name": "stdout",
     "output_type": "stream",
     "text": [
      "tensor([2., 4., 6.])\n"
     ]
    },
    {
     "data": {
      "text/plain": [
       "tensor(12.)"
      ]
     },
     "execution_count": 22,
     "metadata": {},
     "output_type": "execute_result"
    }
   ],
   "source": [
    "print(p.mul(q))\n",
    "p.dot(q)"
   ]
  },
  {
   "cell_type": "code",
   "execution_count": 23,
   "id": "5ab6b55b",
   "metadata": {},
   "outputs": [
    {
     "data": {
      "text/plain": [
       "tensor([[12, 12, 12],\n",
       "        [30, 30, 30]])"
      ]
     },
     "execution_count": 23,
     "metadata": {},
     "output_type": "execute_result"
    }
   ],
   "source": [
    "matrix1=torch.tensor(([1,2,3],[4,5,6]))\n",
    "matrix2=torch.tensor(([2,2,2],[2,2,2],[2,2,2]))\n",
    "matrix1.matmul(matrix2)"
   ]
  },
  {
   "cell_type": "markdown",
   "id": "899d9ebd",
   "metadata": {},
   "source": [
    "4 types in which u can do matrix multiplication"
   ]
  },
  {
   "cell_type": "code",
   "execution_count": 24,
   "id": "37c3830d",
   "metadata": {},
   "outputs": [
    {
     "data": {
      "text/plain": [
       "tensor([[12, 12, 12],\n",
       "        [30, 30, 30]])"
      ]
     },
     "execution_count": 24,
     "metadata": {},
     "output_type": "execute_result"
    }
   ],
   "source": [
    "matrix1.matmul(matrix2)"
   ]
  },
  {
   "cell_type": "code",
   "execution_count": 25,
   "id": "24f7aa41",
   "metadata": {},
   "outputs": [
    {
     "data": {
      "text/plain": [
       "tensor([[12, 12, 12],\n",
       "        [30, 30, 30]])"
      ]
     },
     "execution_count": 25,
     "metadata": {},
     "output_type": "execute_result"
    }
   ],
   "source": [
    "torch.matmul(matrix1,matrix2)"
   ]
  },
  {
   "cell_type": "code",
   "execution_count": 26,
   "id": "2f93f31c",
   "metadata": {},
   "outputs": [
    {
     "data": {
      "text/plain": [
       "tensor([[12, 12, 12],\n",
       "        [30, 30, 30]])"
      ]
     },
     "execution_count": 26,
     "metadata": {},
     "output_type": "execute_result"
    }
   ],
   "source": [
    "torch.mm(matrix1,matrix2)"
   ]
  },
  {
   "cell_type": "code",
   "execution_count": 27,
   "id": "97b52c4c",
   "metadata": {},
   "outputs": [
    {
     "data": {
      "text/plain": [
       "tensor([[12, 12, 12],\n",
       "        [30, 30, 30]])"
      ]
     },
     "execution_count": 27,
     "metadata": {},
     "output_type": "execute_result"
    }
   ],
   "source": [
    "matrix1@matrix2"
   ]
  },
  {
   "cell_type": "markdown",
   "id": "00bfcc88",
   "metadata": {},
   "source": [
    "# Back propagation"
   ]
  },
  {
   "cell_type": "markdown",
   "id": "7e81e3bb",
   "metadata": {},
   "source": [
    "Backpropagation is a widely used algorithm for training feedforward neural networks. It computes the gradient of the loss function with respect to the network weights. It is very efficient, rather than naively directly computing the gradient concerning each weight."
   ]
  },
  {
   "cell_type": "markdown",
   "id": "089b5d26",
   "metadata": {},
   "source": [
    "if y=x^2 then backpropagtion will be y=2*x \n",
    "in simple words just derivative\n",
    "backword matlab derivative nikalna"
   ]
  },
  {
   "cell_type": "code",
   "execution_count": 36,
   "id": "fbc24885",
   "metadata": {},
   "outputs": [],
   "source": [
    "x=torch.tensor(4,dtype=float,requires_grad=True)"
   ]
  },
  {
   "cell_type": "code",
   "execution_count": 37,
   "id": "45dfdd89",
   "metadata": {},
   "outputs": [
    {
     "data": {
      "text/plain": [
       "tensor(16., dtype=torch.float64, grad_fn=<PowBackward0>)"
      ]
     },
     "execution_count": 37,
     "metadata": {},
     "output_type": "execute_result"
    }
   ],
   "source": [
    "y=x**2\n",
    "y"
   ]
  },
  {
   "cell_type": "code",
   "execution_count": 38,
   "id": "b9b3af9a",
   "metadata": {},
   "outputs": [],
   "source": [
    "y.backward()"
   ]
  },
  {
   "cell_type": "code",
   "execution_count": 39,
   "id": "472729a7",
   "metadata": {},
   "outputs": [
    {
     "data": {
      "text/plain": [
       "tensor(8., dtype=torch.float64)"
      ]
     },
     "execution_count": 39,
     "metadata": {},
     "output_type": "execute_result"
    }
   ],
   "source": [
    "x.grad"
   ]
  },
  {
   "cell_type": "markdown",
   "id": "a85956e7",
   "metadata": {},
   "source": [
    "y=x^3+x^2\n",
    "after back propagation equation will be\n",
    "y=3x^2+2x"
   ]
  },
  {
   "cell_type": "code",
   "execution_count": 40,
   "id": "6c713a18",
   "metadata": {},
   "outputs": [],
   "source": [
    "input=torch.tensor(([1,1],[1,0],[0,1],[0,0]),dtype=float,requires_grad=True)"
   ]
  },
  {
   "cell_type": "code",
   "execution_count": 41,
   "id": "61001d94",
   "metadata": {},
   "outputs": [
    {
     "data": {
      "text/plain": [
       "tensor([[1., 1.],\n",
       "        [1., 0.],\n",
       "        [0., 1.],\n",
       "        [0., 0.]], dtype=torch.float64, requires_grad=True)"
      ]
     },
     "execution_count": 41,
     "metadata": {},
     "output_type": "execute_result"
    }
   ],
   "source": [
    "input"
   ]
  },
  {
   "cell_type": "code",
   "execution_count": 42,
   "id": "8c03e8f5",
   "metadata": {},
   "outputs": [
    {
     "data": {
      "text/plain": [
       "tensor([[2., 2.],\n",
       "        [2., 0.],\n",
       "        [0., 2.],\n",
       "        [0., 0.]], dtype=torch.float64, grad_fn=<AddBackward0>)"
      ]
     },
     "execution_count": 42,
     "metadata": {},
     "output_type": "execute_result"
    }
   ],
   "source": [
    "y=input**3+input**2\n",
    "y"
   ]
  },
  {
   "cell_type": "code",
   "execution_count": 44,
   "id": "87b39c6e",
   "metadata": {},
   "outputs": [
    {
     "data": {
      "text/plain": [
       "tensor(8., dtype=torch.float64, grad_fn=<SumBackward0>)"
      ]
     },
     "execution_count": 44,
     "metadata": {},
     "output_type": "execute_result"
    }
   ],
   "source": [
    "output=y.sum()\n",
    "output"
   ]
  },
  {
   "cell_type": "code",
   "execution_count": 45,
   "id": "82e1e90f",
   "metadata": {},
   "outputs": [],
   "source": [
    "output.backward()"
   ]
  },
  {
   "cell_type": "code",
   "execution_count": 46,
   "id": "8d6f8b5f",
   "metadata": {},
   "outputs": [
    {
     "data": {
      "text/plain": [
       "tensor([[5., 5.],\n",
       "        [5., 0.],\n",
       "        [0., 5.],\n",
       "        [0., 0.]], dtype=torch.float64)"
      ]
     },
     "execution_count": 46,
     "metadata": {},
     "output_type": "execute_result"
    }
   ],
   "source": [
    "input.grad"
   ]
  },
  {
   "cell_type": "code",
   "execution_count": 49,
   "id": "7695dd98",
   "metadata": {},
   "outputs": [
    {
     "data": {
      "text/plain": [
       "5"
      ]
     },
     "execution_count": 49,
     "metadata": {},
     "output_type": "execute_result"
    }
   ],
   "source": [
    "3*1**2+1*2"
   ]
  },
  {
   "cell_type": "code",
   "execution_count": 50,
   "id": "da62dfb2",
   "metadata": {},
   "outputs": [],
   "source": [
    "import pandas as pd"
   ]
  },
  {
   "cell_type": "code",
   "execution_count": 51,
   "id": "1d42a120",
   "metadata": {},
   "outputs": [
    {
     "data": {
      "text/html": [
       "<div>\n",
       "<style scoped>\n",
       "    .dataframe tbody tr th:only-of-type {\n",
       "        vertical-align: middle;\n",
       "    }\n",
       "\n",
       "    .dataframe tbody tr th {\n",
       "        vertical-align: top;\n",
       "    }\n",
       "\n",
       "    .dataframe thead th {\n",
       "        text-align: right;\n",
       "    }\n",
       "</style>\n",
       "<table border=\"1\" class=\"dataframe\">\n",
       "  <thead>\n",
       "    <tr style=\"text-align: right;\">\n",
       "      <th></th>\n",
       "      <th>Pregnancies</th>\n",
       "      <th>Glucose</th>\n",
       "      <th>BloodPressure</th>\n",
       "      <th>SkinThickness</th>\n",
       "      <th>Insulin</th>\n",
       "      <th>BMI</th>\n",
       "      <th>DiabetesPedigreeFunction</th>\n",
       "      <th>Age</th>\n",
       "      <th>Outcome</th>\n",
       "    </tr>\n",
       "  </thead>\n",
       "  <tbody>\n",
       "    <tr>\n",
       "      <th>0</th>\n",
       "      <td>6</td>\n",
       "      <td>148</td>\n",
       "      <td>72</td>\n",
       "      <td>35</td>\n",
       "      <td>0</td>\n",
       "      <td>33.6</td>\n",
       "      <td>0.627</td>\n",
       "      <td>50</td>\n",
       "      <td>1</td>\n",
       "    </tr>\n",
       "    <tr>\n",
       "      <th>1</th>\n",
       "      <td>1</td>\n",
       "      <td>85</td>\n",
       "      <td>66</td>\n",
       "      <td>29</td>\n",
       "      <td>0</td>\n",
       "      <td>26.6</td>\n",
       "      <td>0.351</td>\n",
       "      <td>31</td>\n",
       "      <td>0</td>\n",
       "    </tr>\n",
       "    <tr>\n",
       "      <th>2</th>\n",
       "      <td>8</td>\n",
       "      <td>183</td>\n",
       "      <td>64</td>\n",
       "      <td>0</td>\n",
       "      <td>0</td>\n",
       "      <td>23.3</td>\n",
       "      <td>0.672</td>\n",
       "      <td>32</td>\n",
       "      <td>1</td>\n",
       "    </tr>\n",
       "    <tr>\n",
       "      <th>3</th>\n",
       "      <td>1</td>\n",
       "      <td>89</td>\n",
       "      <td>66</td>\n",
       "      <td>23</td>\n",
       "      <td>94</td>\n",
       "      <td>28.1</td>\n",
       "      <td>0.167</td>\n",
       "      <td>21</td>\n",
       "      <td>0</td>\n",
       "    </tr>\n",
       "    <tr>\n",
       "      <th>4</th>\n",
       "      <td>0</td>\n",
       "      <td>137</td>\n",
       "      <td>40</td>\n",
       "      <td>35</td>\n",
       "      <td>168</td>\n",
       "      <td>43.1</td>\n",
       "      <td>2.288</td>\n",
       "      <td>33</td>\n",
       "      <td>1</td>\n",
       "    </tr>\n",
       "  </tbody>\n",
       "</table>\n",
       "</div>"
      ],
      "text/plain": [
       "   Pregnancies  Glucose  BloodPressure  SkinThickness  Insulin   BMI  \\\n",
       "0            6      148             72             35        0  33.6   \n",
       "1            1       85             66             29        0  26.6   \n",
       "2            8      183             64              0        0  23.3   \n",
       "3            1       89             66             23       94  28.1   \n",
       "4            0      137             40             35      168  43.1   \n",
       "\n",
       "   DiabetesPedigreeFunction  Age  Outcome  \n",
       "0                     0.627   50        1  \n",
       "1                     0.351   31        0  \n",
       "2                     0.672   32        1  \n",
       "3                     0.167   21        0  \n",
       "4                     2.288   33        1  "
      ]
     },
     "execution_count": 51,
     "metadata": {},
     "output_type": "execute_result"
    }
   ],
   "source": [
    "df=pd.read_csv('diabetes.csv')\n",
    "df.head()"
   ]
  },
  {
   "cell_type": "code",
   "execution_count": 52,
   "id": "f2e92567",
   "metadata": {},
   "outputs": [
    {
     "data": {
      "text/plain": [
       "Pregnancies                 0\n",
       "Glucose                     0\n",
       "BloodPressure               0\n",
       "SkinThickness               0\n",
       "Insulin                     0\n",
       "BMI                         0\n",
       "DiabetesPedigreeFunction    0\n",
       "Age                         0\n",
       "Outcome                     0\n",
       "dtype: int64"
      ]
     },
     "execution_count": 52,
     "metadata": {},
     "output_type": "execute_result"
    }
   ],
   "source": [
    "df.isnull().sum()"
   ]
  },
  {
   "cell_type": "code",
   "execution_count": 53,
   "id": "e680a7de",
   "metadata": {},
   "outputs": [],
   "source": [
    "x=df.drop('Outcome',axis=1).values #independent features\n",
    "y=df['Outcome'].values #dependent features"
   ]
  },
  {
   "cell_type": "code",
   "execution_count": 60,
   "id": "b6de6b9d",
   "metadata": {},
   "outputs": [
    {
     "data": {
      "text/plain": [
       "(768, 9)"
      ]
     },
     "execution_count": 60,
     "metadata": {},
     "output_type": "execute_result"
    }
   ],
   "source": [
    "df.shape"
   ]
  },
  {
   "cell_type": "code",
   "execution_count": 55,
   "id": "0a47dea4",
   "metadata": {},
   "outputs": [],
   "source": [
    "from sklearn.model_selection import train_test_split\n",
    "X_train,X_test,Y_test,Y_train=train_test_split(x,y,test_size=0.2,random_state=0)"
   ]
  },
  {
   "cell_type": "markdown",
   "id": "d71991be",
   "metadata": {},
   "source": [
    "Independent features need to be converted into float tensors"
   ]
  },
  {
   "cell_type": "code",
   "execution_count": 57,
   "id": "8bb374e1",
   "metadata": {},
   "outputs": [],
   "source": [
    "X_train=torch.FloatTensor(X_train)\n",
    "X_test=torch.FloatTensor(X_test)\n",
    "Y_train=torch.LongTensor(Y_train)\n",
    "Y_test=torch.LongTensor(Y_test)"
   ]
  },
  {
   "cell_type": "markdown",
   "id": "0dae9670",
   "metadata": {},
   "source": [
    "# Creating Model with Pytorch "
   ]
  },
  {
   "cell_type": "code",
   "execution_count": 58,
   "id": "fc1b767d",
   "metadata": {},
   "outputs": [],
   "source": [
    "import torch\n",
    "import torch.nn as nn\n",
    "import torch.nn.functional as F"
   ]
  },
  {
   "cell_type": "code",
   "execution_count": 61,
   "id": "db13b804",
   "metadata": {},
   "outputs": [],
   "source": [
    "class ANN_Model(nn.Module):\n",
    "    def __init__(self,input_features=8,hidden1=20,hidden2=20,output_features=2):\n",
    "        super().__init__()\n",
    "        self.f_connected1=nn.Linear(input_features,hidden1)\n",
    "        self.f_connected2=nn.Linear(hidden1,hidden2)\n",
    "        self.out=nn.Linear(hidden2,output_features)\n",
    "    def forward(self):\n",
    "        x=F.relu(self.f_connected1(x))\n",
    "        x=F.relu(self.f_connected2(x))\n",
    "        x=self.out(x)\n",
    "        return x"
   ]
  },
  {
   "cell_type": "markdown",
   "id": "0f3c986f",
   "metadata": {},
   "source": [
    "Instantiate my ANN Model"
   ]
  },
  {
   "cell_type": "code",
   "execution_count": 62,
   "id": "e9527604",
   "metadata": {},
   "outputs": [],
   "source": [
    "torch.manual_seed(20)\n",
    "model=ANN_Model()"
   ]
  },
  {
   "cell_type": "code",
   "execution_count": 63,
   "id": "1f0d3b4e",
   "metadata": {},
   "outputs": [
    {
     "data": {
      "text/plain": [
       "<bound method Module.parameters of ANN_Model(\n",
       "  (f_connected1): Linear(in_features=8, out_features=20, bias=True)\n",
       "  (f_connected2): Linear(in_features=20, out_features=20, bias=True)\n",
       "  (out): Linear(in_features=20, out_features=2, bias=True)\n",
       ")>"
      ]
     },
     "execution_count": 63,
     "metadata": {},
     "output_type": "execute_result"
    }
   ],
   "source": [
    "model.parameters"
   ]
  },
  {
   "cell_type": "markdown",
   "id": "411367d3",
   "metadata": {},
   "source": [
    "Backward propagation--> defining loss function and optimizer"
   ]
  },
  {
   "cell_type": "code",
   "execution_count": 66,
   "id": "c1a7143e",
   "metadata": {},
   "outputs": [
    {
     "ename": "NameError",
     "evalue": "name 'CrossEntropyLoss' is not defined",
     "output_type": "error",
     "traceback": [
      "\u001b[1;31m---------------------------------------------------------------------------\u001b[0m",
      "\u001b[1;31mNameError\u001b[0m                                 Traceback (most recent call last)",
      "Cell \u001b[1;32mIn[66], line 1\u001b[0m\n\u001b[1;32m----> 1\u001b[0m loss_function\u001b[38;5;241m=\u001b[39mCrossEntropyLoss()\n",
      "\u001b[1;31mNameError\u001b[0m: name 'CrossEntropyLoss' is not defined"
     ]
    }
   ],
   "source": [
    "loss_function=CrossEntropyLoss()"
   ]
  },
  {
   "cell_type": "code",
   "execution_count": null,
   "id": "4e2420aa",
   "metadata": {},
   "outputs": [],
   "source": []
  }
 ],
 "metadata": {
  "kernelspec": {
   "display_name": "Python 3 (ipykernel)",
   "language": "python",
   "name": "python3"
  },
  "language_info": {
   "codemirror_mode": {
    "name": "ipython",
    "version": 3
   },
   "file_extension": ".py",
   "mimetype": "text/x-python",
   "name": "python",
   "nbconvert_exporter": "python",
   "pygments_lexer": "ipython3",
   "version": "3.11.4"
  }
 },
 "nbformat": 4,
 "nbformat_minor": 5
}
